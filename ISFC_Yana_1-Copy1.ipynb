{
 "cells": [
  {
   "cell_type": "code",
   "execution_count": 25,
   "id": "3b18afa1",
   "metadata": {},
   "outputs": [],
   "source": [
    "import numpy as np\n",
    "import pandas as pd\n",
    "import os\n",
    "import glob\n",
    "import matplotlib.pyplot as plt\n",
    "from matplotlib import gridspec\n",
    "from matplotlib.animation import FuncAnimation\n",
    "from numpy.fft import fft, ifft, fftfreq\n",
    "import seaborn as sns\n",
    "from nltools.data import Brain_Data, Adjacency\n",
    "from nltools.mask import expand_mask, roi_to_brain\n",
    "from nltools.stats import isc, isfc, isps, fdr, threshold, phase_randomize, circle_shift, _butter_bandpass_filter, _phase_mean_angle, _phase_vector_length\n",
    "from nilearn.plotting import view_img_on_surf, view_img\n",
    "from sklearn.metrics import pairwise_distances\n",
    "from sklearn.utils import check_random_state\n",
    "from scipy.stats import ttest_1samp\n",
    "from scipy.signal import hilbert\n",
    "import networkx as nx\n",
    "from IPython.display import HTML"
   ]
  },
  {
   "cell_type": "code",
   "execution_count": 3,
   "id": "059a47c2",
   "metadata": {},
   "outputs": [],
   "source": [
    "basepath = '/Users/yana/OneDrive - University of Wyoming/RESEARCH/BBC'\n",
    "filefolders = '/Users/yana/OneDrive - University of Wyoming/RESEARCH/BBC/data'\n",
    "baseline_path = '/Users/yana/OneDrive - University of Wyoming/RESEARCH/BBC/data/base/'"
   ]
  },
  {
   "cell_type": "code",
   "execution_count": 4,
   "id": "0923c096",
   "metadata": {},
   "outputs": [
    {
     "data": {
      "text/plain": [
       "True"
      ]
     },
     "execution_count": 4,
     "metadata": {},
     "output_type": "execute_result"
    }
   ],
   "source": [
    "os.path.exists(baseline_path)\n"
   ]
  },
  {
   "cell_type": "code",
   "execution_count": 31,
   "id": "27287354",
   "metadata": {},
   "outputs": [
    {
     "name": "stdout",
     "output_type": "stream",
     "text": [
      "08\n",
      "01\n",
      "02\n",
      "03\n",
      "04\n",
      "10\n",
      "     sub-08    sub-01    sub-02    sub-03    sub-04    sub-10\n",
      "0 -0.644472  1.797876 -0.815184 -0.376934  0.141275 -0.351786\n",
      "1 -0.770741  0.639720 -0.549698 -0.860777  0.180017 -0.641288\n",
      "2 -0.364052  0.355728 -0.087650 -0.734210 -0.298075 -0.208653\n",
      "3 -0.148369  0.194052 -0.423381 -0.298679  0.415681 -0.127131\n",
      "4 -0.041893 -0.128680  0.162000 -0.270529 -0.252525 -0.357007\n",
      "5  0.163598 -0.166101  0.307607 -0.000120  0.130586 -0.079464\n",
      "6  0.185239 -0.158817  0.257239  0.534270  0.021947 -0.132999\n",
      "7  0.494937 -0.747150  0.288180  0.451536  0.203497  0.748300\n",
      "8  0.292030 -0.880075  0.438539  0.821202 -0.374129  0.630110\n",
      "9  0.833724 -0.906553  0.422347  0.734240 -0.168275  0.519918\n"
     ]
    }
   ],
   "source": [
    "df = pd.DataFrame()\n",
    "#sub_number = 0\n",
    "#file = pd.read_csv(os.path.join(baseline_path, '20001', 'total_ts.csv'))\n",
    "#time_column = file[['time']]\n",
    "#df = pd.concat([df, time_column], axis = 1)\n",
    "\n",
    "for filepath in glob.glob(os.path.join(baseline_path,'*/total_ts.csv')): \n",
    "    #print(filepath)\n",
    "    file = pd.read_csv(filepath)\n",
    "    #time_column = file[['time']]\n",
    "    file = file[['Pu']]    \n",
    "    sub_num = filepath.split('/')[-2]\n",
    "    sub_num = sub_num[3:5]\n",
    "    file.rename(columns = {'Pu':('sub-'+sub_num)}, inplace = True)\n",
    "    df = pd.concat([df, file], axis = 1)\n",
    "\n",
    "    print(sub_num)\n",
    "    \n",
    "file\n",
    "\n",
    "#sub_number = [time, sub-01, sub-02, sub-03, sub-04, sub-08, sub-10] \n",
    "\n",
    " #sub_number = sub_number + 1\n",
    "    #data = file\n",
    "    #df = pd.DataFrame(data, columns=['sub_'+str(sub_number)])\n",
    "    \n",
    "    \n",
    "print(df)\n",
    "    #file = file.transpose()"
   ]
  },
  {
   "cell_type": "code",
   "execution_count": null,
   "id": "3303ac51",
   "metadata": {},
   "outputs": [],
   "source": [
    "sub = 'sub-08'\n",
    "sampling_freq = .5\n",
    "\n",
    "f,a = plt.subplots(nrows=2, ncols=2, figsize=(15, 5))\n",
    "a[0,0].plot(df[sub], linewidth=2)\n",
    "a[0,0].set_ylabel('Avg Activity', fontsize=16)\n",
    "a[0,1].set_xlabel('Time (TR)', fontsize=18)\n",
    "a[0,0].set_title('Observed Data', fontsize=16)\n",
    "\n",
    "fft_data = fft(df[sub])\n",
    "freq = fftfreq(len(fft_data), 1/sampling_freq)\n",
    "n_freq = int(np.floor(len(fft_data)/2))\n",
    "a[0,1].plot(freq[:n_freq], np.abs(fft_data)[:n_freq], linewidth=2)\n",
    "a[0,1].set_xlabel('Frequency (Hz)', fontsize=18)\n",
    "a[0,1].set_ylabel('Amplitude', fontsize=18)\n",
    "a[0,1].set_title('Power Spectrum', fontsize=18)\n",
    "\n",
    "circle_shift_data = circle_shift(df[sub])\n",
    "a[1,0].plot(circle_shift_data, linewidth=2, color='red')\n",
    "a[1,0].set_ylabel('Avg Activity', fontsize=16)\n",
    "a[1,0].set_xlabel('Time (TR)', fontsize=16)\n",
    "a[1,0].set_title('Circle Shifted Data', fontsize=16)\n",
    "\n",
    "fft_circle = fft(circle_shift_data)\n",
    "a[1,1].plot(freq[:n_freq], np.abs(fft_circle)[:n_freq], linewidth=2, color='red')\n",
    "a[1,1].set_xlabel('Frequency (Hz)', fontsize=18)\n",
    "a[1,1].set_ylabel('Amplitude', fontsize=18)\n",
    "a[1,1].set_title('Circle Shifted Power Spectrum', fontsize=18)\n",
    "\n",
    "plt.tight_layout()"
   ]
  },
  {
   "cell_type": "code",
   "execution_count": 30,
   "id": "314d195c",
   "metadata": {},
   "outputs": [
    {
     "name": "stdout",
     "output_type": "stream",
     "text": [
      "ISC: -0.23, p = 0.0314\n"
     ]
    }
   ],
   "source": [
    "stats_circle = isc(df, method='circle_shift', n_bootstraps=5000, return_bootstraps=True)\n",
    "\n",
    "print(f\"ISC: {stats_circle['isc']:.02}, p = {stats_circle['p']:.03}\")\n"
   ]
  },
  {
   "cell_type": "code",
   "execution_count": null,
   "id": "f9f626f3",
   "metadata": {},
   "outputs": [],
   "source": []
  }
 ],
 "metadata": {
  "kernelspec": {
   "display_name": "Python 3 (ipykernel)",
   "language": "python",
   "name": "python3"
  },
  "language_info": {
   "codemirror_mode": {
    "name": "ipython",
    "version": 3
   },
   "file_extension": ".py",
   "mimetype": "text/x-python",
   "name": "python",
   "nbconvert_exporter": "python",
   "pygments_lexer": "ipython3",
   "version": "3.9.12"
  }
 },
 "nbformat": 4,
 "nbformat_minor": 5
}
